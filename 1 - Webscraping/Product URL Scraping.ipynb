{
 "cells": [
  {
   "cell_type": "markdown",
   "metadata": {},
   "source": [
    "# Objective\n",
    "\n",
    "The main obejective of these program is to scrape the data from /www.senheng.com.my/.\n",
    "To gather data from TV section and extract it to a csv file"
   ]
  },
  {
   "cell_type": "code",
   "execution_count": 101,
   "metadata": {},
   "outputs": [],
   "source": [
    "'''\n",
    "Import all the necessary libraries\n",
    "'''\n",
    "from bs4 import BeautifulSoup\n",
    "import requests\n",
    "import csv\n",
    "import urllib.request\n",
    "import urllib\n",
    "import re\n",
    "import os\n",
    "import csv"
   ]
  },
  {
   "cell_type": "code",
   "execution_count": 88,
   "metadata": {},
   "outputs": [],
   "source": [
    "'''\n",
    "Request for the website url if\n",
    "'''\n",
    "tv_url = urllib.request.urlopen('https://www.senheng.com.my/all-products/tvs-audios/tv.html?ajaxcatalog=true&limit=108&mode=grid')"
   ]
  },
  {
   "cell_type": "code",
   "execution_count": 89,
   "metadata": {},
   "outputs": [],
   "source": [
    "'''\n",
    "Parse the html page using Beautiful soup\n",
    "'''\n",
    "soup = BeautifulSoup(tv_url, 'html.parser')\n"
   ]
  },
  {
   "cell_type": "code",
   "execution_count": 90,
   "metadata": {},
   "outputs": [],
   "source": [
    "'''\n",
    "Find all the links and add it to a list\n",
    "'''\n",
    "links = []\n",
    "for link in soup.find_all(\"div\", {\"class\": \"details-area\"}):\n",
    "    links.append(str(link))"
   ]
  },
  {
   "cell_type": "code",
   "execution_count": 91,
   "metadata": {},
   "outputs": [
    {
     "data": {
      "text/plain": [
       "103"
      ]
     },
     "execution_count": 91,
     "metadata": {},
     "output_type": "execute_result"
    }
   ],
   "source": [
    "len(links)"
   ]
  },
  {
   "cell_type": "code",
   "execution_count": 92,
   "metadata": {},
   "outputs": [],
   "source": [
    "valid_links = []\n",
    "for i in links:\n",
    "    regexp = re.compile(r'<h2 class=\"product-name\"><a href=\"https://www.senheng.com.my/')\n",
    "    if regexp.search(i):\n",
    "        valid_links.append(i)\n",
    "    else:\n",
    "        pass"
   ]
  },
  {
   "cell_type": "code",
   "execution_count": 93,
   "metadata": {},
   "outputs": [
    {
     "data": {
      "text/plain": [
       "'https://www.senheng.com.my/lg-50-inch-uhd-tv-lg-50uk6500.html'"
      ]
     },
     "execution_count": 93,
     "metadata": {},
     "output_type": "execute_result"
    }
   ],
   "source": [
    "'''\n",
    "Script for getting the actual html page\n",
    "'''\n",
    "valid_links[4].split('href=\"')[1].split('\" title')[0]"
   ]
  },
  {
   "cell_type": "code",
   "execution_count": 94,
   "metadata": {},
   "outputs": [],
   "source": [
    "final_links = []\n",
    "for i in range(len(valid_links)):\n",
    "    link = valid_links[i].split('href=\"')[1].split('\" title')[0]\n",
    "    final_links.append(link)"
   ]
  },
  {
   "cell_type": "code",
   "execution_count": 98,
   "metadata": {},
   "outputs": [
    {
     "data": {
      "text/plain": [
       "'https://www.senheng.com.my/skyworth-40-inch-smart-led-tv-sky-40e6a.html'"
      ]
     },
     "execution_count": 98,
     "metadata": {},
     "output_type": "execute_result"
    }
   ],
   "source": [
    "final_links[100]"
   ]
  },
  {
   "cell_type": "code",
   "execution_count": 100,
   "metadata": {},
   "outputs": [],
   "source": [
    "'''\n",
    "Exporting the URL List to a csv\n",
    "'''\n",
    "csv_file = \"TV Products URL.csv\"\n",
    "\n",
    "with open(csv_file, \"a\") as output:\n",
    "    writer = csv.writer(output, lineterminator='\\n')\n",
    "    for val in final_links:\n",
    "        writer.writerow([val])"
   ]
  },
  {
   "cell_type": "code",
   "execution_count": null,
   "metadata": {},
   "outputs": [],
   "source": []
  }
 ],
 "metadata": {
  "kernelspec": {
   "display_name": "Python 3",
   "language": "python",
   "name": "python3"
  },
  "language_info": {
   "codemirror_mode": {
    "name": "ipython",
    "version": 3
   },
   "file_extension": ".py",
   "mimetype": "text/x-python",
   "name": "python",
   "nbconvert_exporter": "python",
   "pygments_lexer": "ipython3",
   "version": "3.7.3"
  }
 },
 "nbformat": 4,
 "nbformat_minor": 2
}
