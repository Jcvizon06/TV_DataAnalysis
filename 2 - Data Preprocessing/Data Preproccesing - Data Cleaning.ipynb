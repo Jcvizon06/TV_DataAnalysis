{
 "cells": [
  {
   "cell_type": "markdown",
   "metadata": {},
   "source": [
    "# Objective\n",
    "\n",
    "The objective of this program is to clean the dataset, extract features and target, and export the data."
   ]
  },
  {
   "cell_type": "code",
   "execution_count": 87,
   "metadata": {},
   "outputs": [],
   "source": [
    "import pandas as pd\n",
    "import numpy as np\n",
    "import matplotlib.pyplot as plt\n",
    "import seaborn as sns\n",
    "%matplotlib inline"
   ]
  },
  {
   "cell_type": "code",
   "execution_count": 88,
   "metadata": {},
   "outputs": [],
   "source": [
    "df = pd.read_csv('Preprocess Data.csv')"
   ]
  },
  {
   "cell_type": "code",
   "execution_count": 89,
   "metadata": {},
   "outputs": [
    {
     "data": {
      "text/html": [
       "<div>\n",
       "<style scoped>\n",
       "    .dataframe tbody tr th:only-of-type {\n",
       "        vertical-align: middle;\n",
       "    }\n",
       "\n",
       "    .dataframe tbody tr th {\n",
       "        vertical-align: top;\n",
       "    }\n",
       "\n",
       "    .dataframe thead th {\n",
       "        text-align: right;\n",
       "    }\n",
       "</style>\n",
       "<table border=\"1\" class=\"dataframe\">\n",
       "  <thead>\n",
       "    <tr style=\"text-align: right;\">\n",
       "      <th></th>\n",
       "      <th>Product Name</th>\n",
       "      <th>Discounted Price</th>\n",
       "      <th>Original Price</th>\n",
       "      <th>Warranty</th>\n",
       "      <th>Stock Status</th>\n",
       "      <th>4k</th>\n",
       "      <th>UHD</th>\n",
       "      <th>Smart</th>\n",
       "      <th>LED</th>\n",
       "      <th>Ultra HD</th>\n",
       "      <th>...</th>\n",
       "      <th>OLED</th>\n",
       "      <th>QLED</th>\n",
       "      <th>HDR</th>\n",
       "      <th>PRO</th>\n",
       "      <th>Slim</th>\n",
       "      <th>Curved</th>\n",
       "      <th>8k</th>\n",
       "      <th>Theatre</th>\n",
       "      <th>Dynamic Range</th>\n",
       "      <th>Screen Size</th>\n",
       "    </tr>\n",
       "  </thead>\n",
       "  <tbody>\n",
       "    <tr>\n",
       "      <th>0</th>\n",
       "      <td>Philips 32PHT4002/98 32-inch 4000 Series Slim ...</td>\n",
       "      <td>699</td>\n",
       "      <td>799</td>\n",
       "      <td>2 Years</td>\n",
       "      <td>In stock</td>\n",
       "      <td>0</td>\n",
       "      <td>0</td>\n",
       "      <td>0</td>\n",
       "      <td>1</td>\n",
       "      <td>0</td>\n",
       "      <td>...</td>\n",
       "      <td>0</td>\n",
       "      <td>0</td>\n",
       "      <td>0</td>\n",
       "      <td>0</td>\n",
       "      <td>1</td>\n",
       "      <td>0</td>\n",
       "      <td>0</td>\n",
       "      <td>0</td>\n",
       "      <td>0</td>\n",
       "      <td>32</td>\n",
       "    </tr>\n",
       "    <tr>\n",
       "      <th>1</th>\n",
       "      <td>Toshiba 43-inch Smart LED TV</td>\n",
       "      <td>1,399.00</td>\n",
       "      <td>1,645.00</td>\n",
       "      <td>2 Years</td>\n",
       "      <td>In stock</td>\n",
       "      <td>0</td>\n",
       "      <td>0</td>\n",
       "      <td>1</td>\n",
       "      <td>1</td>\n",
       "      <td>0</td>\n",
       "      <td>...</td>\n",
       "      <td>0</td>\n",
       "      <td>0</td>\n",
       "      <td>0</td>\n",
       "      <td>0</td>\n",
       "      <td>0</td>\n",
       "      <td>0</td>\n",
       "      <td>0</td>\n",
       "      <td>0</td>\n",
       "      <td>0</td>\n",
       "      <td>43</td>\n",
       "    </tr>\n",
       "    <tr>\n",
       "      <th>2</th>\n",
       "      <td>Sony 32-inch LED TV</td>\n",
       "      <td>989</td>\n",
       "      <td>1,036.00</td>\n",
       "      <td>2 Years</td>\n",
       "      <td>In stock</td>\n",
       "      <td>0</td>\n",
       "      <td>0</td>\n",
       "      <td>0</td>\n",
       "      <td>1</td>\n",
       "      <td>0</td>\n",
       "      <td>...</td>\n",
       "      <td>0</td>\n",
       "      <td>0</td>\n",
       "      <td>0</td>\n",
       "      <td>0</td>\n",
       "      <td>0</td>\n",
       "      <td>0</td>\n",
       "      <td>0</td>\n",
       "      <td>0</td>\n",
       "      <td>0</td>\n",
       "      <td>32</td>\n",
       "    </tr>\n",
       "    <tr>\n",
       "      <th>3</th>\n",
       "      <td>Sony 40-inch Full HD LED TV</td>\n",
       "      <td>1,299.00</td>\n",
       "      <td>1,444.00</td>\n",
       "      <td>2 Years</td>\n",
       "      <td>In stock</td>\n",
       "      <td>0</td>\n",
       "      <td>0</td>\n",
       "      <td>0</td>\n",
       "      <td>1</td>\n",
       "      <td>0</td>\n",
       "      <td>...</td>\n",
       "      <td>0</td>\n",
       "      <td>0</td>\n",
       "      <td>0</td>\n",
       "      <td>0</td>\n",
       "      <td>0</td>\n",
       "      <td>0</td>\n",
       "      <td>0</td>\n",
       "      <td>0</td>\n",
       "      <td>0</td>\n",
       "      <td>40</td>\n",
       "    </tr>\n",
       "    <tr>\n",
       "      <th>4</th>\n",
       "      <td>Toshiba 49-inch Full HD LED TV</td>\n",
       "      <td>1,499.00</td>\n",
       "      <td>2,299.00</td>\n",
       "      <td>2 Years</td>\n",
       "      <td>In stock</td>\n",
       "      <td>0</td>\n",
       "      <td>0</td>\n",
       "      <td>0</td>\n",
       "      <td>1</td>\n",
       "      <td>0</td>\n",
       "      <td>...</td>\n",
       "      <td>0</td>\n",
       "      <td>0</td>\n",
       "      <td>0</td>\n",
       "      <td>0</td>\n",
       "      <td>0</td>\n",
       "      <td>0</td>\n",
       "      <td>0</td>\n",
       "      <td>0</td>\n",
       "      <td>0</td>\n",
       "      <td>49</td>\n",
       "    </tr>\n",
       "  </tbody>\n",
       "</table>\n",
       "<p>5 rows × 22 columns</p>\n",
       "</div>"
      ],
      "text/plain": [
       "                                        Product Name Discounted Price  \\\n",
       "0  Philips 32PHT4002/98 32-inch 4000 Series Slim ...              699   \n",
       "1                       Toshiba 43-inch Smart LED TV         1,399.00   \n",
       "2                                Sony 32-inch LED TV              989   \n",
       "3                        Sony 40-inch Full HD LED TV         1,299.00   \n",
       "4                     Toshiba 49-inch Full HD LED TV         1,499.00   \n",
       "\n",
       "  Original Price Warranty Stock Status  4k  UHD  Smart  LED  Ultra HD  \\\n",
       "0            799  2 Years     In stock   0    0      0    1         0   \n",
       "1       1,645.00  2 Years     In stock   0    0      1    1         0   \n",
       "2       1,036.00  2 Years     In stock   0    0      0    1         0   \n",
       "3       1,444.00  2 Years     In stock   0    0      0    1         0   \n",
       "4       2,299.00  2 Years     In stock   0    0      0    1         0   \n",
       "\n",
       "      ...       OLED  QLED  HDR  PRO  Slim  Curved  8k  Theatre  \\\n",
       "0     ...          0     0    0    0     1       0   0        0   \n",
       "1     ...          0     0    0    0     0       0   0        0   \n",
       "2     ...          0     0    0    0     0       0   0        0   \n",
       "3     ...          0     0    0    0     0       0   0        0   \n",
       "4     ...          0     0    0    0     0       0   0        0   \n",
       "\n",
       "   Dynamic Range  Screen Size  \n",
       "0              0           32  \n",
       "1              0           43  \n",
       "2              0           32  \n",
       "3              0           40  \n",
       "4              0           49  \n",
       "\n",
       "[5 rows x 22 columns]"
      ]
     },
     "execution_count": 89,
     "metadata": {},
     "output_type": "execute_result"
    }
   ],
   "source": [
    "df.head()"
   ]
  },
  {
   "cell_type": "code",
   "execution_count": 90,
   "metadata": {},
   "outputs": [],
   "source": [
    "'''\n",
    "Combine UDH and Utra HD column in one column\n",
    "'''\n",
    "df['Ultra-HD'] = df['Ultra HD'] + df['UHD']"
   ]
  },
  {
   "cell_type": "code",
   "execution_count": 91,
   "metadata": {},
   "outputs": [],
   "source": [
    "df.drop('UHD', axis=1, inplace=True)"
   ]
  },
  {
   "cell_type": "code",
   "execution_count": 92,
   "metadata": {},
   "outputs": [],
   "source": [
    "df.drop('Ultra HD', axis=1,inplace=True)"
   ]
  },
  {
   "cell_type": "code",
   "execution_count": 93,
   "metadata": {},
   "outputs": [],
   "source": [
    "def clean_currency(price):\n",
    "    try:\n",
    "        price=price.split('.')[0].split(',')\n",
    "        return ''.join(price)\n",
    "    except:\n",
    "        return price"
   ]
  },
  {
   "cell_type": "code",
   "execution_count": 94,
   "metadata": {},
   "outputs": [],
   "source": [
    "df['Discounted Price'] = df['Discounted Price'].apply(clean_currency)\n",
    "df['Discounted Price'] = df['Discounted Price'].apply(int)\n",
    "df['Original Price'] = df['Original Price'].apply(clean_currency)\n",
    "df['Original Price'] = df['Original Price'].apply(int)"
   ]
  },
  {
   "cell_type": "code",
   "execution_count": 95,
   "metadata": {},
   "outputs": [],
   "source": [
    "def clean_warranty(year):\n",
    "    yr = year.split(' ')[0]\n",
    "    return int(yr)"
   ]
  },
  {
   "cell_type": "code",
   "execution_count": 96,
   "metadata": {},
   "outputs": [],
   "source": [
    "df['Warranty'] = df['Warranty'].apply(clean_warranty)"
   ]
  },
  {
   "cell_type": "code",
   "execution_count": 97,
   "metadata": {},
   "outputs": [],
   "source": [
    "features = df.drop('Discounted Price',axis=1)\n",
    "features = features.drop('Original Price',axis=1)\n",
    "features = features.drop('Product Name', axis=1)\n",
    "features = features.drop('Stock Status', axis=1)\n",
    "\n",
    "discounted_price = df['Discounted Price']\n",
    "original_price = df['Original Price']"
   ]
  },
  {
   "cell_type": "markdown",
   "metadata": {},
   "source": [
    "# Conclusion\n",
    "\n",
    "Now that I have a clean data it is time to apply Machine Learning Model for indepth analysis."
   ]
  },
  {
   "cell_type": "code",
   "execution_count": 86,
   "metadata": {},
   "outputs": [],
   "source": [
    "'''\n",
    "Exporting the Dataset\n",
    "'''\n",
    "import pickle\n",
    "\n",
    "pickle_out = open('features.pickle','wb')\n",
    "pickle.dump(features,pickle_out)\n",
    "pickle_out.close()\n",
    "\n",
    "\n",
    "pickle_out = open('discounted_price.pickle','wb')\n",
    "pickle.dump(discounted_price,pickle_out)\n",
    "pickle_out.close()\n",
    "\n",
    "pickle_out = open('original_price.pickle','wb')\n",
    "pickle.dump(original_price,pickle_out)\n",
    "pickle_out.close()"
   ]
  },
  {
   "cell_type": "code",
   "execution_count": 62,
   "metadata": {},
   "outputs": [],
   "source": [
    "from sklearn.linear_model import LinearRegression"
   ]
  },
  {
   "cell_type": "code",
   "execution_count": 63,
   "metadata": {},
   "outputs": [],
   "source": [
    "lm = LinearRegression()"
   ]
  },
  {
   "cell_type": "code",
   "execution_count": 64,
   "metadata": {},
   "outputs": [],
   "source": [
    "from sklearn.model_selection import train_test_split"
   ]
  },
  {
   "cell_type": "code",
   "execution_count": 65,
   "metadata": {},
   "outputs": [],
   "source": [
    "X_train, X_test, y_train, y_test = train_test_split(X, y, test_size=0.3, random_state=101)"
   ]
  },
  {
   "cell_type": "code",
   "execution_count": 66,
   "metadata": {},
   "outputs": [
    {
     "data": {
      "text/plain": [
       "LinearRegression(copy_X=True, fit_intercept=True, n_jobs=None,\n",
       "         normalize=False)"
      ]
     },
     "execution_count": 66,
     "metadata": {},
     "output_type": "execute_result"
    }
   ],
   "source": [
    "lm.fit(X_train,y_train)"
   ]
  },
  {
   "cell_type": "code",
   "execution_count": 67,
   "metadata": {},
   "outputs": [
    {
     "name": "stdout",
     "output_type": "stream",
     "text": [
      "-1044.7861822653167\n"
     ]
    }
   ],
   "source": [
    "# print the intercept\n",
    "print(lm.intercept_)"
   ]
  },
  {
   "cell_type": "code",
   "execution_count": 68,
   "metadata": {},
   "outputs": [],
   "source": [
    "coeff_df = pd.DataFrame(lm.coef_,X.columns,columns=['Coefficient'])\n"
   ]
  },
  {
   "cell_type": "code",
   "execution_count": 69,
   "metadata": {},
   "outputs": [
    {
     "data": {
      "text/plain": [
       "8k                4734.125568\n",
       "QLED              1296.791884\n",
       "Theatre           1167.739350\n",
       "Warranty           938.434229\n",
       "4k                 872.971203\n",
       "Full HD            702.636362\n",
       "LED                676.826832\n",
       "Smart              328.580148\n",
       "Ultra-HD           317.325673\n",
       "Curved             245.890093\n",
       "Original Price       0.896893\n",
       "Screen Size        -47.406450\n",
       "Slim              -189.015873\n",
       "HDR               -272.618472\n",
       "Dynamic Range     -360.341787\n",
       "Android           -469.576801\n",
       "PRO              -1038.167981\n",
       "OLED             -2743.312273\n",
       "Name: Coefficient, dtype: float64"
      ]
     },
     "execution_count": 69,
     "metadata": {},
     "output_type": "execute_result"
    }
   ],
   "source": [
    "coeff_df['Coefficient'].sort_values(ascending = False)"
   ]
  },
  {
   "cell_type": "code",
   "execution_count": 21,
   "metadata": {},
   "outputs": [
    {
     "data": {
      "text/plain": [
       "Original Price       0.832659\n",
       "4k                 654.448960\n",
       "Smart              274.630510\n",
       "LED                 99.796380\n",
       "Full HD            513.122870\n",
       "Android           -844.223467\n",
       "OLED             -1598.842960\n",
       "QLED              2644.583369\n",
       "HDR                264.414903\n",
       "PRO               -783.278880\n",
       "Slim               -68.307260\n",
       "Curved             267.601839\n",
       "8k                5406.039244\n",
       "Theatre           1112.736379\n",
       "Dynamic Range      200.869774\n",
       "Screen Size        -53.370944\n",
       "Ultra-HD           428.334479\n",
       "Name: Coefficient, dtype: float64"
      ]
     },
     "execution_count": 21,
     "metadata": {},
     "output_type": "execute_result"
    }
   ],
   "source": [
    "coeff_df['Coefficient']"
   ]
  },
  {
   "cell_type": "code",
   "execution_count": 22,
   "metadata": {},
   "outputs": [
    {
     "data": {
      "text/plain": [
       "(17,)"
      ]
     },
     "execution_count": 22,
     "metadata": {},
     "output_type": "execute_result"
    }
   ],
   "source": [
    "lm.coef_.shape"
   ]
  },
  {
   "cell_type": "code",
   "execution_count": 23,
   "metadata": {},
   "outputs": [],
   "source": [
    "predictions = lm.predict(X_test)"
   ]
  },
  {
   "cell_type": "code",
   "execution_count": 24,
   "metadata": {},
   "outputs": [
    {
     "data": {
      "text/plain": [
       "<matplotlib.collections.PathCollection at 0x29d878c4748>"
      ]
     },
     "execution_count": 24,
     "metadata": {},
     "output_type": "execute_result"
    },
    {
     "data": {
      "image/png": "[encoded data removed]",
      "text/plain": [
       "<Figure size 432x288 with 1 Axes>"
      ]
     },
     "metadata": {
      "needs_background": "light"
     },
     "output_type": "display_data"
    }
   ],
   "source": [
    "plt.scatter(y_test,predictions)"
   ]
  },
  {
   "cell_type": "code",
   "execution_count": 87,
   "metadata": {},
   "outputs": [],
   "source": [
    "from sklearn import metrics"
   ]
  },
  {
   "cell_type": "code",
   "execution_count": 88,
   "metadata": {},
   "outputs": [
    {
     "name": "stdout",
     "output_type": "stream",
     "text": [
      "MAE: 870.2497361046759\n",
      "MSE: 1683278.878478789\n",
      "RMSE: 1297.4123779580605\n"
     ]
    }
   ],
   "source": [
    "print('MAE:', metrics.mean_absolute_error(y_test, predictions))\n",
    "print('MSE:', metrics.mean_squared_error(y_test, predictions))\n",
    "print('RMSE:', np.sqrt(metrics.mean_squared_error(y_test, predictions)))"
   ]
  },
  {
   "cell_type": "code",
   "execution_count": 99,
   "metadata": {},
   "outputs": [],
   "source": []
  },
  {
   "cell_type": "code",
   "execution_count": null,
   "metadata": {},
   "outputs": [],
   "source": []
  }
 ],
 "metadata": {
  "kernelspec": {
   "display_name": "Python 3",
   "language": "python",
   "name": "python3"
  },
  "language_info": {
   "codemirror_mode": {
    "name": "ipython",
    "version": 3
   },
   "file_extension": ".py",
   "mimetype": "text/x-python",
   "name": "python",
   "nbconvert_exporter": "python",
   "pygments_lexer": "ipython3",
   "version": "3.7.1"
  }
 },
 "nbformat": 4,
 "nbformat_minor": 2
}
