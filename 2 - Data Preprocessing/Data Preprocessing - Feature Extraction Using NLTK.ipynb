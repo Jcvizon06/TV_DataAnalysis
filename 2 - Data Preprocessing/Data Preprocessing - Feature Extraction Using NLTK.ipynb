{
 "cells": [
  {
   "cell_type": "code",
   "execution_count": 164,
   "metadata": {},
   "outputs": [],
   "source": [
    "'''\n",
    "Import all the necessary libraries\n",
    "'''\n",
    "import nltk\n",
    "import pandas as pd\n",
    "import numpy as np\n",
    "from nltk.corpus import webtext,stopwords,wordnet\n",
    "import re"
   ]
  },
  {
   "cell_type": "code",
   "execution_count": 146,
   "metadata": {},
   "outputs": [],
   "source": [
    "'''\n",
    "Import raw data set\n",
    "'''\n",
    "raw_data = pd.read_csv('TV_Dataset.csv')"
   ]
  },
  {
   "cell_type": "code",
   "execution_count": 148,
   "metadata": {},
   "outputs": [
    {
     "data": {
      "text/html": [
       "<div>\n",
       "<style scoped>\n",
       "    .dataframe tbody tr th:only-of-type {\n",
       "        vertical-align: middle;\n",
       "    }\n",
       "\n",
       "    .dataframe tbody tr th {\n",
       "        vertical-align: top;\n",
       "    }\n",
       "\n",
       "    .dataframe thead th {\n",
       "        text-align: right;\n",
       "    }\n",
       "</style>\n",
       "<table border=\"1\" class=\"dataframe\">\n",
       "  <thead>\n",
       "    <tr style=\"text-align: right;\">\n",
       "      <th></th>\n",
       "      <th>Product Name</th>\n",
       "      <th>Discounted Price</th>\n",
       "      <th>Orginal Price</th>\n",
       "      <th>Warranty</th>\n",
       "      <th>Stock Status</th>\n",
       "    </tr>\n",
       "  </thead>\n",
       "  <tbody>\n",
       "    <tr>\n",
       "      <th>0</th>\n",
       "      <td>Philips 32PHT4002/98 32-inch 4000 Series Slim ...</td>\n",
       "      <td>699.00</td>\n",
       "      <td>799.00</td>\n",
       "      <td>2 Years</td>\n",
       "      <td>In stock</td>\n",
       "    </tr>\n",
       "    <tr>\n",
       "      <th>1</th>\n",
       "      <td>Toshiba 43-inch Smart LED TV</td>\n",
       "      <td>1,399.00</td>\n",
       "      <td>1,645.00</td>\n",
       "      <td>2 Years</td>\n",
       "      <td>In stock</td>\n",
       "    </tr>\n",
       "    <tr>\n",
       "      <th>2</th>\n",
       "      <td>Sony 32-inch LED TV</td>\n",
       "      <td>989.00</td>\n",
       "      <td>1,036.00</td>\n",
       "      <td>2 Years</td>\n",
       "      <td>In stock</td>\n",
       "    </tr>\n",
       "    <tr>\n",
       "      <th>3</th>\n",
       "      <td>Sony 40-inch Full HD LED TV</td>\n",
       "      <td>1,299.00</td>\n",
       "      <td>1,444.00</td>\n",
       "      <td>2 Years</td>\n",
       "      <td>In stock</td>\n",
       "    </tr>\n",
       "    <tr>\n",
       "      <th>4</th>\n",
       "      <td>Toshiba 49-inch Full HD LED TV</td>\n",
       "      <td>1,499.00</td>\n",
       "      <td>2,299.00</td>\n",
       "      <td>2 Years</td>\n",
       "      <td>In stock</td>\n",
       "    </tr>\n",
       "  </tbody>\n",
       "</table>\n",
       "</div>"
      ],
      "text/plain": [
       "                                        Product Name Discounted Price  \\\n",
       "0  Philips 32PHT4002/98 32-inch 4000 Series Slim ...           699.00   \n",
       "1                       Toshiba 43-inch Smart LED TV         1,399.00   \n",
       "2                                Sony 32-inch LED TV           989.00   \n",
       "3                        Sony 40-inch Full HD LED TV         1,299.00   \n",
       "4                     Toshiba 49-inch Full HD LED TV         1,499.00   \n",
       "\n",
       "  Orginal Price Warranty Stock Status  \n",
       "0        799.00  2 Years     In stock  \n",
       "1      1,645.00  2 Years     In stock  \n",
       "2      1,036.00  2 Years     In stock  \n",
       "3      1,444.00  2 Years     In stock  \n",
       "4      2,299.00  2 Years     In stock  "
      ]
     },
     "execution_count": 148,
     "metadata": {},
     "output_type": "execute_result"
    }
   ],
   "source": [
    "raw_data.head()"
   ]
  },
  {
   "cell_type": "code",
   "execution_count": 233,
   "metadata": {},
   "outputs": [],
   "source": [
    "'''\n",
    "Create a string compose of all the product name\n",
    "'''\n",
    "raw_text = ' '.join(raw)"
   ]
  },
  {
   "cell_type": "code",
   "execution_count": 225,
   "metadata": {},
   "outputs": [],
   "source": [
    "token_words = word_tokenize(raw_text)"
   ]
  },
  {
   "cell_type": "code",
   "execution_count": 234,
   "metadata": {},
   "outputs": [],
   "source": [
    "product_brand = 'ACER APPLE BEATS BY DRE BRAUN CORNELL DIMSUM ELBA ELECTROLUX FABER GOPRO HATARI HISENSE HITACHI HONEYWELL HONOR LG MEC MICROSOFT MIDEA MORPHY RICHARDS MSI NISSEI OPPO ORAL-B PANASONIC PENSONIC PHILIPS ROBAM SAMSUNG SONY SHARP TOSHIBA TUSCANI VIVO'\n",
    "product_brand = product_brand.lower().split(' ')    "
   ]
  },
  {
   "cell_type": "code",
   "execution_count": 244,
   "metadata": {},
   "outputs": [],
   "source": [
    "brand_removed = [word.lower() for word in token_words if word.lower() not in product_brand]"
   ]
  },
  {
   "cell_type": "code",
   "execution_count": 272,
   "metadata": {},
   "outputs": [],
   "source": [
    "countDict = Counter((brand_removed))"
   ]
  },
  {
   "cell_type": "code",
   "execution_count": 285,
   "metadata": {},
   "outputs": [],
   "source": [
    "title_df = pd.DataFrame.from_dict(countDict,orient='index',columns=['count'])"
   ]
  },
  {
   "cell_type": "code",
   "execution_count": 286,
   "metadata": {},
   "outputs": [
    {
     "data": {
      "text/html": [
       "<div>\n",
       "<style scoped>\n",
       "    .dataframe tbody tr th:only-of-type {\n",
       "        vertical-align: middle;\n",
       "    }\n",
       "\n",
       "    .dataframe tbody tr th {\n",
       "        vertical-align: top;\n",
       "    }\n",
       "\n",
       "    .dataframe thead th {\n",
       "        text-align: right;\n",
       "    }\n",
       "</style>\n",
       "<table border=\"1\" class=\"dataframe\">\n",
       "  <thead>\n",
       "    <tr style=\"text-align: right;\">\n",
       "      <th></th>\n",
       "      <th>count</th>\n",
       "    </tr>\n",
       "  </thead>\n",
       "  <tbody>\n",
       "    <tr>\n",
       "      <th>32pht4002/98</th>\n",
       "      <td>2</td>\n",
       "    </tr>\n",
       "    <tr>\n",
       "      <th>32-inch</th>\n",
       "      <td>7</td>\n",
       "    </tr>\n",
       "    <tr>\n",
       "      <th>4000</th>\n",
       "      <td>2</td>\n",
       "    </tr>\n",
       "    <tr>\n",
       "      <th>series</th>\n",
       "      <td>2</td>\n",
       "    </tr>\n",
       "    <tr>\n",
       "      <th>slim</th>\n",
       "      <td>5</td>\n",
       "    </tr>\n",
       "  </tbody>\n",
       "</table>\n",
       "</div>"
      ],
      "text/plain": [
       "              count\n",
       "32pht4002/98      2\n",
       "32-inch           7\n",
       "4000              2\n",
       "series            2\n",
       "slim              5"
      ]
     },
     "execution_count": 286,
     "metadata": {},
     "output_type": "execute_result"
    }
   ],
   "source": [
    "title_df.head()"
   ]
  },
  {
   "cell_type": "code",
   "execution_count": 321,
   "metadata": {
    "scrolled": true
   },
   "outputs": [
    {
     "data": {
      "text/plain": [
       "tv                103\n",
       "4k                 55\n",
       "uhd                44\n",
       "smart              42\n",
       "led                36\n",
       "hd                 35\n",
       "ultra              23\n",
       "65-inch            17\n",
       "55-inch            16\n",
       "full               15\n",
       "android            13\n",
       "skyworth           11\n",
       "50-inch            11\n",
       "qled                9\n",
       "40-inch             9\n",
       "75-inch             8\n",
       "49-inch             7\n",
       "32-inch             7\n",
       "43-inch             7\n",
       "hdr                 7\n",
       "oled                5\n",
       "pro                 5\n",
       "slim                5\n",
       "ru7100              5\n",
       "x70f                4\n",
       "q60r                4\n",
       "|                   3\n",
       "senheng             3\n",
       "45-inch             3\n",
       "q75r                3\n",
       "                 ... \n",
       "24-inch             1\n",
       "pen-pled3211t       1\n",
       "43pft4002s/98       1\n",
       "50                  1\n",
       "55                  1\n",
       "82-inch             1\n",
       "in                  1\n",
       "70                  1\n",
       "50a6501uw           1\n",
       "a6501               1\n",
       "50a6100uw           1\n",
       "a6100               1\n",
       "mag27c              1\n",
       "optix               1\n",
       "monitor             1\n",
       "gaming              1\n",
       "27-inch             1\n",
       "rasy                1\n",
       "th-75fx750k         1\n",
       "th-55fz950k         1\n",
       "th-55fx600k         1\n",
       "th-65fz950k         1\n",
       "ledtv               1\n",
       "nu7100              1\n",
       "ua65nu7100kxxm      1\n",
       "kd-65a8f            1\n",
       "kd-55a8f            1\n",
       "85-inch             1\n",
       "40l5650vm           1\n",
       "nu7300              1\n",
       "Name: count, Length: 88, dtype: int64"
      ]
     },
     "execution_count": 321,
     "metadata": {},
     "output_type": "execute_result"
    }
   ],
   "source": [
    "title_df['count'].sort_values(ascending=False)"
   ]
  },
  {
   "cell_type": "markdown",
   "metadata": {},
   "source": [
    "# Conclusion\n",
    "\n",
    "Upon Evaluation These are the features that can be extracted to from the product name:\n",
    "\n",
    "- 4k\n",
    "- UHD\n",
    "- SMART\n",
    "- LED\n",
    "- ULTRA HD\n",
    "- FULL HD\n",
    "- ANDROID\n",
    "- QLED\n",
    "- OLED\n",
    "- HDR\n",
    "- PRO\n",
    "- SLIM\n",
    "- CURVED\n",
    "- 8K\n",
    "- THEATRE\n",
    "- DYNAMIC RANGE\n",
    "- SCREEN SIZE"
   ]
  },
  {
   "cell_type": "code",
   "execution_count": null,
   "metadata": {},
   "outputs": [],
   "source": []
  }
 ],
 "metadata": {
  "kernelspec": {
   "display_name": "Python 3",
   "language": "python",
   "name": "python3"
  },
  "language_info": {
   "codemirror_mode": {
    "name": "ipython",
    "version": 3
   },
   "file_extension": ".py",
   "mimetype": "text/x-python",
   "name": "python",
   "nbconvert_exporter": "python",
   "pygments_lexer": "ipython3",
   "version": "3.7.1"
  }
 },
 "nbformat": 4,
 "nbformat_minor": 2
}
